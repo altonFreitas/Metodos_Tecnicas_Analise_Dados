{
 "cells": [
  {
   "cell_type": "markdown",
   "metadata": {},
   "source": [
    "# O ficheiro Life_Expectancy_Data.csv contém 22 colunas e 1.649 registos. Aqui estão as características principais dos dados:\n",
    "\n",
    "# Colunas Principais\n",
    "Country: Nome do país.\n",
    "Year: Ano do registo.\n",
    "Status: Nível de desenvolvimento (Developed ou Developing).\n",
    "Life expectancy: Expectativa de vida (em anos).\n",
    "Adult Mortality: Mortalidade adulta (por 1.000).\n",
    "Infant deaths: Mortes infantis (por 1.000 nascimentos).\n",
    "Alcohol: Consumo de álcool per capita (litros).\n",
    "GDP: Produto Interno Bruto per capita.\n",
    "Schooling: Anos de escolaridade média.\n",
    "Exemplo de Dados\n",
    "Um dos registos:\n",
    "\n",
    "País: Afghanistan\n",
    "Ano: 2015\n",
    "Expectativa de vida: 65 anos\n",
    "Mortalidade adulta: 263 por 1.000\n",
    "Escolaridade média: 10,1 anos\n",
    "\n",
    "* CRISP-DM – Business Understanding:\n",
    "Determine Business Objectives: O objetivo pode ser identificar fatores determinantes para melhorar a expectativa de vida global.\n",
    "Assess Situation: Identificar limitações, como possíveis valores ausentes ou discrepâncias nos dados.\n",
    "Determine Data Mining Goals: Desenvolver modelos preditivos para estimar a expectativa de vida com base em variáveis como PIB, educação e mortalidade.\n",
    "Produce Project Plan: Criar etapas claras, como exploração dos dados, limpeza, seleção de técnicas de modelagem e validação.\n"
   ]
  },
  {
   "cell_type": "code",
   "execution_count": null,
   "metadata": {},
   "outputs": [],
   "source": [
    "import pandas as pd\n",
    "\n",
    "# Load the dataset to analyze its structure and content\n",
    "file_path = './data/Life_Expectancy_Data.csv'\n",
    "data = pd.read_csv(file_path)\n",
    "\n",
    "# Display basic information about the dataset\n",
    "data_info = {\n",
    "    \"Columns\": data.columns.tolist(),\n",
    "    \"Number of Rows\": data.shape[0],\n",
    "    \"Number of Columns\": data.shape[1],\n",
    "    \"Sample Data\": data.head()\n",
    "}\n",
    "data_info\n"
   ]
  },
  {
   "cell_type": "code",
   "execution_count": null,
   "metadata": {},
   "outputs": [],
   "source": []
  }
 ],
 "metadata": {
  "kernelspec": {
   "display_name": "Python 3",
   "language": "python",
   "name": "python3"
  },
  "language_info": {
   "codemirror_mode": {
    "name": "ipython",
    "version": 3
   },
   "file_extension": ".py",
   "mimetype": "text/x-python",
   "name": "python",
   "nbconvert_exporter": "python",
   "pygments_lexer": "ipython3",
   "version": "3.12.7"
  }
 },
 "nbformat": 4,
 "nbformat_minor": 2
}
