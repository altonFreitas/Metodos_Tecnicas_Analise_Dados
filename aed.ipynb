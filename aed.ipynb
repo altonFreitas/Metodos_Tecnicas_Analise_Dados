{
 "cells": [
  {
   "cell_type": "markdown",
   "metadata": {},
   "source": [
    "# About Dataset\n",
    "## Context\n",
    "Although there have been lot of studies undertaken in the past on factors affecting life expectancy considering demographic variables, income composition and mortality rates. It was found that affect of immunization and human development index was not taken into account in the past. Also, some of the past research was done considering multiple linear regression based on data set of one year for all the countries. Hence, this gives motivation to resolve both the factors stated previously by formulating a regression model based on mixed effects model and multiple linear regression while considering data from a period of 2000 to 2015 for all the countries. Important immunization like Hepatitis B, Polio and Diphtheria will also be considered. In a nutshell, this study will focus on immunization factors, mortality factors, economic factors, social factors and other health related factors as well. Since the observations this dataset are based on different countries, it will be easier for a country to determine the predicting factor which is contributing to lower value of life expectancy. This will help in suggesting a country which area should be given importance in order to efficiently improve the life expectancy of its population.\n",
    "\n",
    "## Content\n",
    "The project relies on accuracy of data. The Global Health Observatory (GHO) data repository under World Health Organization (WHO) keeps track of the health status as well as many other related factors for all countries The data-sets are made available to public for the purpose of health data analysis. The data-set related to life expectancy, health factors for 193 countries has been collected from the same WHO data repository website and its corresponding economic data was collected from United Nation website. Among all categories of health-related factors only those critical factors were chosen which are more representative. It has been observed that in the past 15 years , there has been a huge development in health sector resulting in improvement of human mortality rates especially in the developing nations in comparison to the past 30 years. Therefore, in this project we have considered data from year 2000-2015 for 193 countries for further analysis. The individual data files have been merged together into a single data-set. On initial visual inspection of the data showed some missing values. As the data-sets were from WHO, we found no evident errors. Missing data was handled in R software by using Missmap command. The result indicated that most of the missing data was for population, Hepatitis B and GDP. The missing data were from less known countries like Vanuatu, Tonga, Togo, Cabo Verde etc. Finding all data for these countries was difficult and hence, it was decided that we exclude these countries from the final model data-set. The final merged file(final dataset) consists of 22 Columns and 2938 rows which meant 20 predicting variables. All predicting variables was then divided into several broad categories:​Immunization related factors, Mortality factors, Economical factors and Social factors\n"
   ]
  },
  {
   "cell_type": "markdown",
   "metadata": {},
   "source": [
    "---\n",
    "\n",
    "## **Data Understanding**\n",
    "\n",
    "- **Country**: Country name.\n",
    "- **Year**: Year of the record.\n",
    "- **Status**: Country's development status (Developed or Developing).\n",
    "- **Life expectancy**: Life expectancy in years.\n",
    "- **Adult Mortality**: Adult mortality rates for both sexes (probability of dying between 15 and 60 years per 1000 population).\n",
    "- **Infant Deaths**: Number of infant deaths per 1000 population.\n",
    "- **Alcohol**: Alcohol consumption per capita (15+) in litres of pure alcohol.\n",
    "- **Percentage Expenditure**: Expenditure on health as a percentage of Gross Domestic Product per capita (%).\n",
    "- **Hepatitis B**: Hepatitis B (HepB) immunization coverage among 1-year-olds (%).\n",
    "- **Measles**: Number of reported cases of measles per 1000 population.\n",
    "- **BMI**: Average Body Mass Index of the population.\n",
    "- **Under-five Deaths**: Number of deaths for children under five years per 1000 population.\n",
    "- **Polio**: Polio (Pol3) immunization coverage among 1-year-olds (%).\n",
    "- **Total Expenditure**: General government expenditure on health as a percentage of total government expenditure (%).\n",
    "- **Diphtheria**: Diphtheria tetanus toxoid and pertussis (DTP3) immunization coverage among 1-year-olds (%).\n",
    "- **HIV/AIDS**: Deaths per 1000 live births caused by HIV/AIDS (ages 0-4 years).\n",
    "- **GDP**: Gross Domestic Product per capita (in USD).\n",
    "- **Population**: Total population of the country.\n",
    "- **Thinness 1-19 Years**: Prevalence of thinness among children and adolescents aged 10 to 19 (%).\n",
    "- **Thinness 5-9 Years**: Prevalence of thinness among children aged 5 to 9 (%).\n",
    "- **Income Composition of Resources**: Human Development Index in terms of income composition of resources (index ranging from 0 to 1).\n",
    "- **Schooling**: Average number of years of schooling.\n"
   ]
  },
  {
   "cell_type": "code",
   "execution_count": null,
   "metadata": {},
   "outputs": [],
   "source": [
    "import pandas as pd\n",
    "import matplotlib.pyplot as plt\n",
    "import seaborn as sns\n",
    "import numpy as np\n",
    "from sklearn.impute import SimpleImputer\n",
    "\n",
    "# set style of visualization\n",
    "sns.set_style(\"whitegrid\")\n",
    "sns.set_palette(\"RdBu\")\n",
    "\n",
    "\n"
   ]
  },
  {
   "cell_type": "code",
   "execution_count": null,
   "metadata": {},
   "outputs": [],
   "source": [
    "data = pd.read_csv('./data/Life_Expectancy_Data.csv')\n",
    "data.shape\n",
    "\n",
    "\n"
   ]
  },
  {
   "cell_type": "code",
   "execution_count": null,
   "metadata": {},
   "outputs": [],
   "source": [
    "# Criar um novo dataset excluindo variáveis string\n",
    "data2 = data.select_dtypes(include=['float64', 'int64'])\n",
    "data2.head()\n",
    "\n",
    "\n"
   ]
  },
  {
   "cell_type": "code",
   "execution_count": null,
   "metadata": {},
   "outputs": [],
   "source": [
    "data2.info()\n",
    "data2.isnull().sum()"
   ]
  },
  {
   "cell_type": "code",
   "execution_count": null,
   "metadata": {},
   "outputs": [],
   "source": [
    "# Replacing the Null Values with mean values of the data\n",
    "imputer=SimpleImputer(missing_values=np.nan,strategy='mean',fill_value=None)\n",
    "data2['Life expectancy ']=imputer.fit_transform(data2[['Life expectancy ']])\n",
    "data2['Adult Mortality']=imputer.fit_transform(data2[['Adult Mortality']])\n",
    "data2['Alcohol']=imputer.fit_transform(data2[['Alcohol']])\n",
    "data2['Hepatitis B']=imputer.fit_transform(data2[['Hepatitis B']])\n",
    "data2[' BMI ']=imputer.fit_transform(data2[[' BMI ']])\n",
    "data2['Polio']=imputer.fit_transform(data2[['Polio']])\n",
    "data2['Total expenditure']=imputer.fit_transform(data2[['Total expenditure']])\n",
    "data2['Diphtheria ']=imputer.fit_transform(data2[['Diphtheria ']])\n",
    "data2['GDP']=imputer.fit_transform(data2[['GDP']])\n",
    "data2['Population']=imputer.fit_transform(data2[['Population']])\n",
    "data2[' thinness  1-19 years']=imputer.fit_transform(data2[[' thinness  1-19 years']])\n",
    "data2[' thinness 5-9 years']=imputer.fit_transform(data2[[' thinness 5-9 years']])\n",
    "data2['Income composition of resources']=imputer.fit_transform(data2[['Income composition of resources']])\n",
    "data2['Schooling']=imputer.fit_transform(data2[['Schooling']])"
   ]
  },
  {
   "cell_type": "code",
   "execution_count": null,
   "metadata": {},
   "outputs": [],
   "source": [
    "data.describe(include = object)\n"
   ]
  },
  {
   "cell_type": "markdown",
   "metadata": {},
   "source": [
    "---\n",
    "# Exploratory Data Analysis\n",
    "\n",
    "1. Preparação dos Dados\n"
   ]
  },
  {
   "cell_type": "code",
   "execution_count": null,
   "metadata": {},
   "outputs": [],
   "source": [
    "# Limpar os nomes das colunas\n",
    "data.columns = data.columns.str.strip()\n",
    "\n",
    "# Tratar valores ausentes para 'GDP' e 'Schooling'\n",
    "data['GDP'] = data['GDP'].fillna(data['GDP'].median())\n",
    "data['Schooling'] = data['Schooling'].fillna(data['Schooling'].median())\n",
    "\n",
    "# Ajustar os nomes das colunas para corresponder ao dataset\n",
    "selected_columns = [\n",
    "    'Country', 'Year', 'Status', 'Life expectancy', 'Adult Mortality',\n",
    "    'infant deaths', 'Alcohol', 'percentage expenditure', 'GDP',\n",
    "    'Schooling'\n",
    "]\n",
    "prepared_data = data[selected_columns]\n",
    "\n",
    "# Criar atributos adicionais\n",
    "prepared_data = prepared_data.copy()  # Garante que é uma cópia independente do DataFrame original\n",
    "prepared_data.loc[:, 'Life_Expectancy'] = prepared_data['Life expectancy']\n",
    "prepared_data.loc[:, 'GDP_Per_Schooling'] = prepared_data['GDP'] / prepared_data['Schooling']\n",
    "prepared_data.loc[:, 'Infant_Mortality_Rate'] = prepared_data['infant deaths'] / prepared_data['Life_Expectancy']\n",
    "prepared_data.loc[:, 'Health_Expenditure_Ratio'] = prepared_data['percentage expenditure'] / prepared_data['GDP']\n",
    "\n",
    "# Renomear as colunas para consistência\n",
    "formatted_data = prepared_data.rename(columns={\n",
    "    'Life expectancy': 'Life_Expectancy',\n",
    "    'Adult Mortality': 'Adult_Mortality',\n",
    "    'infant deaths': 'Infant_Deaths',\n",
    "    'percentage expenditure': 'Percentage_Expenditure'\n",
    "})\n",
    "\n",
    "# Remover possíveis duplicatas de colunas para evitar problemas na visualização\n",
    "formatted_data = formatted_data.loc[:, ~formatted_data.columns.duplicated()]\n",
    "\n",
    "# Variáveis numéricas principais\n",
    "key_numeric_variables = ['Life_Expectancy', 'Adult_Mortality', 'Infant_Deaths', \n",
    "                         'Alcohol', 'Percentage_Expenditure', 'GDP', 'Schooling']\n",
    "\n",
    "# Garantir que as variáveis necessárias estão presentes\n",
    "missing_variables = [var for var in key_numeric_variables if var not in formatted_data.columns]\n",
    "if missing_variables:\n",
    "    print(f\"As seguintes variáveis estão ausentes: {missing_variables}\")\n",
    "\n",
    "# Normalizar variáveis numéricas principais para análises futuras\n",
    "from sklearn.preprocessing import MinMaxScaler\n",
    "scaler = MinMaxScaler()\n",
    "formatted_data[key_numeric_variables] = scaler.fit_transform(formatted_data[key_numeric_variables])\n",
    "\n",
    "# Relatório descritivo\n",
    "descriptive_statistics = formatted_data[key_numeric_variables].describe()\n",
    "\n",
    "# Exibir estatísticas descritivas\n",
    "print(\"Estatísticas descritivas das variáveis principais:\")\n",
    "print(descriptive_statistics)\n"
   ]
  },
  {
   "cell_type": "code",
   "execution_count": null,
   "metadata": {},
   "outputs": [],
   "source": [
    "data.describe()\n"
   ]
  },
  {
   "cell_type": "code",
   "execution_count": null,
   "metadata": {},
   "outputs": [],
   "source": [
    "# Selecionar apenas colunas numéricas\n",
    "numeric_data = data.select_dtypes(include=['float64', 'int64'])\n",
    "\n",
    "# Calcular a correlação para as colunas numéricas\n",
    "correlation_matrix = numeric_data.corr()\n",
    "\n",
    "# Exibir as cinco primeiras linhas\n",
    "print(\"Correlation Matrix:\")\n",
    "print(correlation_matrix.head())\n"
   ]
  },
  {
   "cell_type": "markdown",
   "metadata": {},
   "source": [
    "---\n",
    "2. Visualização dos Dados"
   ]
  },
  {
   "cell_type": "code",
   "execution_count": null,
   "metadata": {},
   "outputs": [],
   "source": [
    "import matplotlib.pyplot as plt\n",
    "import seaborn as sns\n",
    "\n",
    "# Visualizar um histograma para 'Life_Expectancy'\n",
    "x = formatted_data['Life_Expectancy']\n",
    "\n",
    "fig, ax = plt.subplots(figsize=(8, 6))\n",
    "ax.hist(x, bins=40, linewidth=0.5, edgecolor=\"white\")\n",
    "ax.set_title(\"Histogram of Life Expectancy\")\n",
    "ax.set_xlabel(\"Life Expectancy (Normalized)\")\n",
    "ax.set_ylabel(\"Frequency\")\n",
    "plt.show()\n",
    "\n",
    "# Plotar a matriz de correlação\n",
    "correlation_matrix = formatted_data[key_numeric_variables].corr()\n",
    "fig, ax = plt.subplots(figsize=(10, 8))\n",
    "sns.heatmap(correlation_matrix, annot=True, cmap=\"coolwarm\", fmt=\".2f\", ax=ax)\n",
    "ax.set_title(\"Correlation Heatmap of Key Variables\")\n",
    "plt.show()\n"
   ]
  },
  {
   "cell_type": "code",
   "execution_count": null,
   "metadata": {},
   "outputs": [],
   "source": [
    "plt.figure(figsize=(15,10))\n",
    "sns.heatmap(data2.corr(),annot=True,cmap='Reds')\n",
    "plt.show()"
   ]
  },
  {
   "cell_type": "code",
   "execution_count": null,
   "metadata": {},
   "outputs": [],
   "source": [
    "import plotly.express as px\n",
    "\n",
    "fig = px.violin(\n",
    "    data,\n",
    "    x='Status',\n",
    "    y='Life expectancy',  # Nome correto da coluna\n",
    "    color='Status',\n",
    "    template='plotly_dark',\n",
    "    box=True,\n",
    "    title='Life Expectancy Based on Country Status'\n",
    ")\n",
    "fig.show()"
   ]
  },
  {
   "cell_type": "code",
   "execution_count": null,
   "metadata": {},
   "outputs": [],
   "source": [
    "fig=px.line(data.sort_values(by='Year'),x='Year',y='Life expectancy',animation_frame='Country',animation_group='Year',color='Country',markers=True,template='plotly_dark',title='<b> Country wise Life Expectancy over Years')\n",
    "fig.show()"
   ]
  },
  {
   "cell_type": "code",
   "execution_count": null,
   "metadata": {},
   "outputs": [],
   "source": [
    "px.scatter(data,y='Adult Mortality',x='Life expectancy',color='Country',size='Life expectancy',template='plotly_dark',opacity=0.6,title='<b> Life Expectancy Versus Adult Mortality')\n"
   ]
  },
  {
   "cell_type": "code",
   "execution_count": null,
   "metadata": {},
   "outputs": [],
   "source": [
    "px.scatter_3d(data.sort_values(by='Year'),y='Adult Mortality',x='Life expectancy',z='infant deaths',size='Life expectancy',template='plotly_dark',color='Country')\n"
   ]
  },
  {
   "cell_type": "markdown",
   "metadata": {},
   "source": [
    "---"
   ]
  },
  {
   "cell_type": "code",
   "execution_count": null,
   "metadata": {},
   "outputs": [],
   "source": [
    "# first i see some column name with empty space i will fixed it to ease of use\n",
    "\n",
    "data.columns = data.columns.str.strip()\n",
    "\n",
    "# create function to visualized categorical column using count plot\n",
    "\n",
    "def count_plot(x_axis = None, y_axis = None, hue = None, rotation = 0, top = None):\n",
    "    \"\"\"\n",
    "    1) input : x_axis, column name, data type must be object or categorical\n",
    "    3) output : cout plot using seaborn modules, unique values in x-axis and frequency in y-axis\n",
    "    4) use bar_label to show frequency of each unique values above each column in graph\n",
    "    5) top parameter i use it to specify indexes i want to see it\n",
    "    \"\"\"\n",
    "    if x_axis: # if we neet to visualized in x-axis\n",
    "        order = train[x_axis].value_counts().iloc[:top].index\n",
    "        \n",
    "    else : # if we neet to visualized in y-axis\n",
    "        order = train[y_axis].value_counts().iloc[:top].index\n",
    "        \n",
    "    graph = sns.countplot(x = x_axis, y = y_axis, data = train, hue = hue, order = order)\n",
    "    for container in graph.containers:\n",
    "        graph.bar_label(container)\n",
    "        \n",
    "        \n",
    "    plt.xticks(rotation = rotation)\n",
    "    plt.show()"
   ]
  },
  {
   "cell_type": "code",
   "execution_count": null,
   "metadata": {},
   "outputs": [],
   "source": [
    "# create function that visualized categorical column using pie plot\n",
    "\n",
    "def pie_plot(column_name):\n",
    "    \"\"\"\n",
    "    1) input : column name, column data type must be object or categorical\n",
    "    2) output : circle chart that shows size of each unique values and percentage \n",
    "    \"\"\"\n",
    "    plt.pie(data[column_name].value_counts(), labels = data[column_name].value_counts().index, shadow = True, autopct = \"%1.1f%%\")\n",
    "    plt.show()"
   ]
  },
  {
   "cell_type": "code",
   "execution_count": null,
   "metadata": {},
   "outputs": [],
   "source": [
    "def histogram(column_name):\n",
    "    \n",
    "    # 1- set figure size\n",
    "    plt.figure(figsize=(15, 20))\n",
    "\n",
    "    # 2- loop over services list to plot columns\n",
    "    for index, col in enumerate(column_name):\n",
    "        plt.subplot((len(column_name) + 1) // 2, 2, index + 1) # create sub-plot\n",
    "\n",
    "        sns.histplot(x = col, data = train, kde = True)\n",
    "        \n",
    "        plt.title(col) # set title to each plot\n",
    "        plt.xlabel(\"\") # replace x label with empty string\n",
    "        plt.ylabel(\"\") # replace y label with empty string\n",
    "\n",
    "    # 3- set layout between two plots\n",
    "    plt.tight_layout(pad = 2)\n",
    "\n",
    "    plt.show()"
   ]
  },
  {
   "cell_type": "code",
   "execution_count": null,
   "metadata": {},
   "outputs": [],
   "source": [
    "# create function that visualized numeric columns using box plot\n",
    "\n",
    "def box_plot(x_axis = None, y_axis = None):\n",
    "    \"\"\"\n",
    "    input : x_axis, y_axis and hue column, column data type must be numeric in y_axis\n",
    "    output : box plot to see distribution of column values such as min,max,mean,medien,std\n",
    "    \"\"\"\n",
    "    sns.boxplot(x = x_axis, y = y_axis, data = train)\n",
    "    plt.xlabel(x_axis)\n",
    "    plt.ylabel(\"FRQ\")\n",
    "    plt.show()"
   ]
  },
  {
   "cell_type": "code",
   "execution_count": null,
   "metadata": {},
   "outputs": [],
   "source": [
    "# first i neet to split data to train and tes\n",
    "\n",
    "# import need function\n",
    "from sklearn.model_selection import train_test_split\n",
    "\n",
    "# spliting data to train and test\n",
    "train, test =  train_test_split(data, test_size = 0.2, random_state = 42)"
   ]
  },
  {
   "cell_type": "code",
   "execution_count": null,
   "metadata": {},
   "outputs": [],
   "source": [
    "# see shape of train and test data\n",
    "\n",
    "print(f\"Shape of train data is : {train.shape}\")\n",
    "print(\"-\" * 30)\n",
    "print(f\"Shape of test data is : {test.shape}\")"
   ]
  },
  {
   "cell_type": "code",
   "execution_count": null,
   "metadata": {},
   "outputs": [],
   "source": [
    "train[\"Country\"].nunique()\n"
   ]
  },
  {
   "cell_type": "code",
   "execution_count": null,
   "metadata": {},
   "outputs": [],
   "source": [
    "train[\"Country\"].unique()\n"
   ]
  },
  {
   "cell_type": "code",
   "execution_count": null,
   "metadata": {},
   "outputs": [],
   "source": [
    "train[\"Status\"].unique()\n",
    "\n",
    "# number of unique values is small, which is appropriate with pie plot\n",
    "\n",
    "pie_plot(\"Status\") # call function i create it in cell \n"
   ]
  },
  {
   "cell_type": "code",
   "execution_count": null,
   "metadata": {},
   "outputs": [],
   "source": [
    "# see the impact of \"year\" on \"Life Expectancy\"\n",
    "\n",
    "# set figure size\n",
    "plt.figure(figsize=(15,5))\n",
    "\n",
    "sns.lineplot(x = 'Year', y = 'Life expectancy', data = train, marker = 'o' ,errorbar=('ci', False))\n",
    "plt.show()"
   ]
  },
  {
   "cell_type": "code",
   "execution_count": null,
   "metadata": {},
   "outputs": [],
   "source": [
    "# create list of numerical column\n",
    "\n",
    "numerical_colum = train.select_dtypes(exclude = object).columns.tolist()\n",
    "numerical_colum.remove(\"Year\") # remove year column from list\n",
    "\n",
    "# call function i create it in cell 14\n",
    "\n",
    "histogram(numerical_colum) # numerical_column list from cell 29"
   ]
  },
  {
   "cell_type": "code",
   "execution_count": null,
   "metadata": {},
   "outputs": [],
   "source": [
    "def create_scatterplot(x_axis, column_name):\n",
    "    \n",
    "    # 1- set figure size\n",
    "    plt.figure(figsize=(15, 20))\n",
    "\n",
    "    # 2- loop over services list to plot columns\n",
    "    for index, col in enumerate(column_name):\n",
    "        plt.subplot((len(column_name) + 1) // 2, 2, index + 1) # create sub-plot\n",
    "    \n",
    "        sns.scatterplot(x = x_axis, y = col, data = data)\n",
    "        \n",
    "        plt.title(col) # set title to each plot\n",
    "        plt.xlabel(\"\") # replace x label with empty string\n",
    "        plt.ylabel(\"\") # replace y label with empty string\n",
    "\n",
    "    # 3- set layout between two plots\n",
    "    plt.tight_layout(pad = 2)\n",
    "\n",
    "    plt.show()\n",
    "\n",
    "create_scatterplot(\"Life expectancy\", numerical_colum) \n"
   ]
  },
  {
   "cell_type": "code",
   "execution_count": null,
   "metadata": {},
   "outputs": [],
   "source": [
    "# first visualize correlation matrix between numerical columns\n",
    "\n",
    "plt.figure(figsize = (16,8))\n",
    "sns.heatmap(train.select_dtypes(exclude = object).corr(), annot = True, fmt = \".2f\", linewidths = 0.2)\n",
    "plt.show()"
   ]
  },
  {
   "cell_type": "markdown",
   "metadata": {},
   "source": [
    "---\n",
    "\n",
    "# Data Preprocessing\n"
   ]
  },
  {
   "cell_type": "code",
   "execution_count": null,
   "metadata": {},
   "outputs": [],
   "source": [
    "# import libraries to model\n",
    "\n",
    "from sklearn.preprocessing import LabelEncoder, MinMaxScaler\n",
    "from sklearn.ensemble import RandomForestRegressor\n",
    "from sklearn.linear_model import LinearRegression\n",
    "from sklearn.metrics import mean_absolute_error,r2_score\n",
    "from sklearn.ensemble import GradientBoostingRegressor\n",
    "from sklearn.svm import SVR"
   ]
  },
  {
   "cell_type": "code",
   "execution_count": null,
   "metadata": {},
   "outputs": [],
   "source": [
    "# create object from labelencoder\n",
    "\n",
    "encoder = LabelEncoder()\n",
    "\n",
    "for column in [\"Country\", \"Status\"]:\n",
    "    train[column] = encoder.fit_transform(train[column])\n",
    "    test[column] = encoder.fit_transform(test[column])"
   ]
  },
  {
   "cell_type": "code",
   "execution_count": null,
   "metadata": {},
   "outputs": [],
   "source": [
    "# see sample of training data\n",
    "\n",
    "train.sample(2)"
   ]
  },
  {
   "cell_type": "code",
   "execution_count": null,
   "metadata": {},
   "outputs": [],
   "source": [
    "# see sample of test data\n",
    "\n",
    "test.sample(2)"
   ]
  },
  {
   "cell_type": "code",
   "execution_count": null,
   "metadata": {},
   "outputs": [],
   "source": [
    "# Splitting training into Indipendent and Dependent Variable\n",
    "\n",
    "Train = train[['HIV/AIDS', 'Income composition of resources', 'Adult Mortality', 'BMI', 'under-five deaths']]\n",
    "Target = train[\"Life expectancy\"]"
   ]
  },
  {
   "cell_type": "code",
   "execution_count": null,
   "metadata": {},
   "outputs": [],
   "source": [
    "# Splitting testing into Indipendent and Dependent Variable\n",
    "\n",
    "x_test = test[['HIV/AIDS', 'Income composition of resources', 'Adult Mortality', 'BMI', 'under-five deaths']]\n",
    "y_test = test[\"Life expectancy\"]"
   ]
  },
  {
   "cell_type": "code",
   "execution_count": null,
   "metadata": {},
   "outputs": [],
   "source": [
    "# Scaling train data using min max scaler\n",
    "\n",
    "scaler = MinMaxScaler()\n",
    "\n",
    "Train= scaler.fit_transform(Train)\n",
    "x_test= scaler.transform(x_test)"
   ]
  },
  {
   "cell_type": "markdown",
   "metadata": {},
   "source": [
    "--- \n",
    "\n",
    "# Modeling"
   ]
  },
  {
   "cell_type": "code",
   "execution_count": null,
   "metadata": {},
   "outputs": [],
   "source": [
    "# Create an empty DataFrame for modeling\n",
    "Modeling = pd.DataFrame(columns=['Model', 'Training Score', 'Test R2 Score'])\n",
    "\n",
    "# Define the model selection function\n",
    "def select_model(model_name):\n",
    "    global Modeling  # Access the global DataFrame\n",
    "    \n",
    "    # initialize your model object \n",
    "    model = model_name\n",
    "    \n",
    "    # Fit the model on the training data\n",
    "    model.fit(Train, Target)\n",
    "    \n",
    "    # Calculate the score of the model on the training data\n",
    "    train_score = model.score(Train, Target)\n",
    "    print(f\"Score of the {model_name} model on the training data is: {train_score}\")\n",
    "    \n",
    "    # Make predictions on the test data\n",
    "    predictions = np.round(model.predict(x_test), decimals = 1)\n",
    "    \n",
    "    # See R2 score on the test data\n",
    "    test_r2_score = r2_score(y_test, predictions)\n",
    "    print(f\"R2 score of the {model_name} model on the test data is: {test_r2_score}\")\n",
    "    \n",
    "    # Create a DataFrame for the current model's scores\n",
    "    model_scores = pd.DataFrame({'Model': [model_name], 'Training Score': [train_score], 'Test R2 Score': [test_r2_score]})\n",
    "    \n",
    "    # Concatenate the model_scores DataFrame with the Modeling DataFrame\n",
    "    Modeling = pd.concat([Modeling, model_scores], ignore_index = True)"
   ]
  },
  {
   "cell_type": "code",
   "execution_count": null,
   "metadata": {},
   "outputs": [],
   "source": [
    "select_model(LinearRegression())\n",
    "select_model(SVR(C = 9.0, epsilon = 0.9, kernel = 'rbf'))\n",
    "select_model(RandomForestRegressor(n_estimators = 100, max_depth=7, min_samples_split=5))\n",
    "select_model(GradientBoostingRegressor(n_estimators = 100, max_depth = 6, min_samples_split = 5))\n"
   ]
  },
  {
   "cell_type": "markdown",
   "metadata": {},
   "source": [
    "--- \n",
    "\n",
    "# Evaluating Results"
   ]
  },
  {
   "cell_type": "code",
   "execution_count": null,
   "metadata": {},
   "outputs": [],
   "source": [
    "# rename modle name\n",
    "names = ['LinearRegression', 'SVR', 'RandomForestRegressor', 'GradientBoostingRegressor']\n",
    "\n",
    "# loop over list to rename model\n",
    "for i in range(4):\n",
    "    Modeling.rename(index = {i : names[i]}, inplace = True)\n",
    "    \n",
    "# drop model column\n",
    "Modeling.drop(columns= \"Model\", inplace = True)"
   ]
  },
  {
   "cell_type": "code",
   "execution_count": null,
   "metadata": {},
   "outputs": [],
   "source": [
    "Modeling.plot(kind = \"bar\", figsize = (15,6), width = 0.6)\n",
    "plt.xticks(rotation = 0)\n",
    "plt.show()"
   ]
  }
 ],
 "metadata": {
  "kernelspec": {
   "display_name": "Python 3",
   "language": "python",
   "name": "python3"
  },
  "language_info": {
   "codemirror_mode": {
    "name": "ipython",
    "version": 3
   },
   "file_extension": ".py",
   "mimetype": "text/x-python",
   "name": "python",
   "nbconvert_exporter": "python",
   "pygments_lexer": "ipython3",
   "version": "3.12.7"
  }
 },
 "nbformat": 4,
 "nbformat_minor": 2
}
