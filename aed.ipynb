{
 "cells": [
  {
   "cell_type": "code",
   "execution_count": 107,
   "metadata": {},
   "outputs": [],
   "source": [
    "import pandas as pd\n"
   ]
  },
  {
   "cell_type": "code",
   "execution_count": 108,
   "metadata": {},
   "outputs": [
    {
     "name": "stdout",
     "output_type": "stream",
     "text": [
      "          Country  Year      Status  Life expectancy   Adult Mortality  \\\n",
      "0     Afghanistan  2015  Developing              65.0              263   \n",
      "1     Afghanistan  2014  Developing              59.9              271   \n",
      "2     Afghanistan  2013  Developing              59.9              268   \n",
      "3     Afghanistan  2012  Developing              59.5              272   \n",
      "4     Afghanistan  2011  Developing              59.2              275   \n",
      "...           ...   ...         ...               ...              ...   \n",
      "1644     Zimbabwe  2004  Developing              44.3              723   \n",
      "1645     Zimbabwe  2003  Developing              44.5              715   \n",
      "1646     Zimbabwe  2002  Developing              44.8               73   \n",
      "1647     Zimbabwe  2001  Developing              45.3              686   \n",
      "1648     Zimbabwe  2000  Developing              46.0              665   \n",
      "\n",
      "      infant deaths  Alcohol  percentage expenditure  Hepatitis B  Measles   \\\n",
      "0                62     0.01               71.279624           65      1154   \n",
      "1                64     0.01               73.523582           62       492   \n",
      "2                66     0.01               73.219243           64       430   \n",
      "3                69     0.01               78.184215           67      2787   \n",
      "4                71     0.01                7.097109           68      3013   \n",
      "...             ...      ...                     ...          ...       ...   \n",
      "1644             27     4.36                0.000000           68        31   \n",
      "1645             26     4.06                0.000000            7       998   \n",
      "1646             25     4.43                0.000000           73       304   \n",
      "1647             25     1.72                0.000000           76       529   \n",
      "1648             24     1.68                0.000000           79      1483   \n",
      "\n",
      "      ...  Polio  Total expenditure  Diphtheria    HIV/AIDS         GDP  \\\n",
      "0     ...      6               8.16           65        0.1  584.259210   \n",
      "1     ...     58               8.18           62        0.1  612.696514   \n",
      "2     ...     62               8.13           64        0.1  631.744976   \n",
      "3     ...     67               8.52           67        0.1  669.959000   \n",
      "4     ...     68               7.87           68        0.1   63.537231   \n",
      "...   ...    ...                ...          ...        ...         ...   \n",
      "1644  ...     67               7.13           65       33.6  454.366654   \n",
      "1645  ...      7               6.52           68       36.7  453.351155   \n",
      "1646  ...     73               6.53           71       39.8   57.348340   \n",
      "1647  ...     76               6.16           75       42.1  548.587312   \n",
      "1648  ...     78               7.10           78       43.5  547.358878   \n",
      "\n",
      "      Population   thinness  1-19 years   thinness 5-9 years  \\\n",
      "0     33736494.0                   17.2                 17.3   \n",
      "1       327582.0                   17.5                 17.5   \n",
      "2     31731688.0                   17.7                 17.7   \n",
      "3      3696958.0                   17.9                 18.0   \n",
      "4      2978599.0                   18.2                 18.2   \n",
      "...          ...                    ...                  ...   \n",
      "1644  12777511.0                    9.4                  9.4   \n",
      "1645  12633897.0                    9.8                  9.9   \n",
      "1646    125525.0                    1.2                  1.3   \n",
      "1647  12366165.0                    1.6                  1.7   \n",
      "1648  12222251.0                   11.0                 11.2   \n",
      "\n",
      "      Income composition of resources  Schooling  \n",
      "0                               0.479       10.1  \n",
      "1                               0.476       10.0  \n",
      "2                               0.470        9.9  \n",
      "3                               0.463        9.8  \n",
      "4                               0.454        9.5  \n",
      "...                               ...        ...  \n",
      "1644                            0.407        9.2  \n",
      "1645                            0.418        9.5  \n",
      "1646                            0.427       10.0  \n",
      "1647                            0.427        9.8  \n",
      "1648                            0.434        9.8  \n",
      "\n",
      "[1649 rows x 22 columns]\n"
     ]
    }
   ],
   "source": [
    "df = pd.read_csv('data/Life_Expectancy_Data.csv')\n",
    "print (df)"
   ]
  },
  {
   "cell_type": "code",
   "execution_count": 109,
   "metadata": {},
   "outputs": [
    {
     "name": "stdout",
     "output_type": "stream",
     "text": [
      "<class 'pandas.core.frame.DataFrame'>\n",
      "RangeIndex: 1649 entries, 0 to 1648\n",
      "Data columns (total 22 columns):\n",
      " #   Column                           Non-Null Count  Dtype  \n",
      "---  ------                           --------------  -----  \n",
      " 0   Country                          1649 non-null   object \n",
      " 1   Year                             1649 non-null   int64  \n",
      " 2   Status                           1649 non-null   object \n",
      " 3   Life expectancy                  1649 non-null   float64\n",
      " 4   Adult Mortality                  1649 non-null   int64  \n",
      " 5   infant deaths                    1649 non-null   int64  \n",
      " 6   Alcohol                          1649 non-null   float64\n",
      " 7   percentage expenditure           1649 non-null   float64\n",
      " 8   Hepatitis B                      1649 non-null   int64  \n",
      " 9   Measles                          1649 non-null   int64  \n",
      " 10   BMI                             1649 non-null   float64\n",
      " 11  under-five deaths                1649 non-null   int64  \n",
      " 12  Polio                            1649 non-null   int64  \n",
      " 13  Total expenditure                1649 non-null   float64\n",
      " 14  Diphtheria                       1649 non-null   int64  \n",
      " 15   HIV/AIDS                        1649 non-null   float64\n",
      " 16  GDP                              1649 non-null   float64\n",
      " 17  Population                       1649 non-null   float64\n",
      " 18   thinness  1-19 years            1649 non-null   float64\n",
      " 19   thinness 5-9 years              1649 non-null   float64\n",
      " 20  Income composition of resources  1649 non-null   float64\n",
      " 21  Schooling                        1649 non-null   float64\n",
      "dtypes: float64(12), int64(8), object(2)\n",
      "memory usage: 283.6+ KB\n",
      "None\n"
     ]
    }
   ],
   "source": [
    "print(df.info(100))"
   ]
  },
  {
   "cell_type": "markdown",
   "metadata": {},
   "source": [
    "# Analisar os dataset \n",
    "\n",
    "A análise deste dataset terá como objetivo principal identificar e aplicar otimizações que facilitem o uso dos dados em trabalhos futuros. Para isso, será essencial garantir que o dataset esteja bem estruturado e livre de inconsistências. Os passos a serem seguidos incluem:\n",
    "\n",
    "1. **Identificação de valores ausentes (missing values)**: Uma das primeiras tarefas será verificar se existem valores nulos ou ausentes em qualquer uma das colunas. \n",
    "Estes valores podem comprometer a análise e, portanto, será necessário tratá-los de forma adequada.\n",
    "\n",
    "2. **Tratamento de valores ausentes**: Caso sejam identificados valores ausentes, eles serão substituídos por valores calculados, como a média ou a mediana da respectiva coluna. Esta abordagem ajuda a preservar a integridade estatística do dataset e evita a exclusão de dados relevantes.\n",
    "\n",
    "3. **Limpeza dos dados**: Remover espaços desnecessários nos nomes das colunas e padronizar os formatos dos dados (por exemplo, datas, números e categorias) para assegurar a consistência e facilitar a análise posterior.\n",
    "\n",
    "4. **Normalização de dados**: Avaliar se as variáveis numéricas precisam de normalização ou padronização, especialmente se forem usadas em algoritmos de machine learning.\n",
    "\n",
    "5. **Estruturação dos dados**: Organizar os dados de forma que fiquem prontos para análises mais complexas, como visualizações, geração de relatórios e modelagem preditiva. Isso inclui transformar variáveis categóricas em variáveis dummy, se necessário, ou criar colunas derivadas com informações adicionais.\n",
    "\n",
    "6. **Verificação de outliers**: Identificar valores extremos ou inconsistentes que possam indicar erros ou dados atípicos, e decidir como lidar com eles, seja removendo-os ou ajustando-os.\n",
    "\n",
    "7. **Documentação**: Registrar todas as alterações e otimizações feitas no dataset para que o processo seja replicável e transparente para futuros trabalhos.\n",
    "\n",
    "Ao final, o dataset resultante será otimizado para diversas aplicações, desde análises exploratórias até a criação de modelos de machine learning. Esta preparação permitirá não apenas uma análise mais eficiente, mas também resultados mais confiáveis e aplicáveis ao problema em questão. Caso desejes, posso começar a trabalhar em cada um desses passos com o dataset fornecido."
   ]
  },
  {
   "cell_type": "markdown",
   "metadata": {},
   "source": []
  },
  {
   "cell_type": "code",
   "execution_count": 110,
   "metadata": {},
   "outputs": [
    {
     "name": "stdout",
     "output_type": "stream",
     "text": [
      "Country                            0\n",
      "Year                               0\n",
      "Status                             0\n",
      "Life expectancy                    0\n",
      "Adult Mortality                    0\n",
      "infant deaths                      0\n",
      "Alcohol                            0\n",
      "percentage expenditure             0\n",
      "Hepatitis B                        0\n",
      "Measles                            0\n",
      " BMI                               0\n",
      "under-five deaths                  0\n",
      "Polio                              0\n",
      "Total expenditure                  0\n",
      "Diphtheria                         0\n",
      " HIV/AIDS                          0\n",
      "GDP                                0\n",
      "Population                         0\n",
      " thinness  1-19 years              0\n",
      " thinness 5-9 years                0\n",
      "Income composition of resources    0\n",
      "Schooling                          0\n",
      "dtype: int64\n"
     ]
    }
   ],
   "source": [
    "missing_values = df.isnull().sum()\n",
    "print (missing_values)"
   ]
  },
  {
   "cell_type": "code",
   "execution_count": 111,
   "metadata": {},
   "outputs": [
    {
     "name": "stdout",
     "output_type": "stream",
     "text": [
      "          country  Year      Status  Lifeexpectancy  Adultmortality  \\\n",
      "0     Afghanistan  2015  Developing            65.0             263   \n",
      "1     Afghanistan  2014  Developing            59.9             271   \n",
      "2     Afghanistan  2013  Developing            59.9             268   \n",
      "3     Afghanistan  2012  Developing            59.5             272   \n",
      "4     Afghanistan  2011  Developing            59.2             275   \n",
      "...           ...   ...         ...             ...             ...   \n",
      "1644     Zimbabwe  2004  Developing            44.3             723   \n",
      "1645     Zimbabwe  2003  Developing            44.5             715   \n",
      "1646     Zimbabwe  2002  Developing            44.8              73   \n",
      "1647     Zimbabwe  2001  Developing            45.3             686   \n",
      "1648     Zimbabwe  2000  Developing            46.0             665   \n",
      "\n",
      "      Infantdeaths  Alcohol  Percentageexpenditure  Hepatitisb  Measles  ...  \\\n",
      "0               62     0.01              71.279624          65     1154  ...   \n",
      "1               64     0.01              73.523582          62      492  ...   \n",
      "2               66     0.01              73.219243          64      430  ...   \n",
      "3               69     0.01              78.184215          67     2787  ...   \n",
      "4               71     0.01               7.097109          68     3013  ...   \n",
      "...            ...      ...                    ...         ...      ...  ...   \n",
      "1644            27     4.36               0.000000          68       31  ...   \n",
      "1645            26     4.06               0.000000           7      998  ...   \n",
      "1646            25     4.43               0.000000          73      304  ...   \n",
      "1647            25     1.72               0.000000          76      529  ...   \n",
      "1648            24     1.68               0.000000          79     1483  ...   \n",
      "\n",
      "      Polio  Totalexpenditure  Diphtheria  Hiv/aids         Gdp  Population  \\\n",
      "0         6              8.16          65       0.1  584.259210  33736494.0   \n",
      "1        58              8.18          62       0.1  612.696514    327582.0   \n",
      "2        62              8.13          64       0.1  631.744976  31731688.0   \n",
      "3        67              8.52          67       0.1  669.959000   3696958.0   \n",
      "4        68              7.87          68       0.1   63.537231   2978599.0   \n",
      "...     ...               ...         ...       ...         ...         ...   \n",
      "1644     67              7.13          65      33.6  454.366654  12777511.0   \n",
      "1645      7              6.52          68      36.7  453.351155  12633897.0   \n",
      "1646     73              6.53          71      39.8   57.348340    125525.0   \n",
      "1647     76              6.16          75      42.1  548.587312  12366165.0   \n",
      "1648     78              7.10          78      43.5  547.358878  12222251.0   \n",
      "\n",
      "      Thinness1-19years  Thinness5-9years  Incomecompositionofresources  \\\n",
      "0                  17.2              17.3                         0.479   \n",
      "1                  17.5              17.5                         0.476   \n",
      "2                  17.7              17.7                         0.470   \n",
      "3                  17.9              18.0                         0.463   \n",
      "4                  18.2              18.2                         0.454   \n",
      "...                 ...               ...                           ...   \n",
      "1644                9.4               9.4                         0.407   \n",
      "1645                9.8               9.9                         0.418   \n",
      "1646                1.2               1.3                         0.427   \n",
      "1647                1.6               1.7                         0.427   \n",
      "1648               11.0              11.2                         0.434   \n",
      "\n",
      "      Schooling  \n",
      "0          10.1  \n",
      "1          10.0  \n",
      "2           9.9  \n",
      "3           9.8  \n",
      "4           9.5  \n",
      "...         ...  \n",
      "1644        9.2  \n",
      "1645        9.5  \n",
      "1646       10.0  \n",
      "1647        9.8  \n",
      "1648        9.8  \n",
      "\n",
      "[1649 rows x 22 columns]\n"
     ]
    }
   ],
   "source": [
    "df.columns = df.columns.str.replace(' ', '') \n",
    "df.columns = [df.columns[0].lower()] + df.columns[1:].str.capitalize().tolist()  \n",
    "\n",
    "print (df)\n"
   ]
  },
  {
   "cell_type": "code",
   "execution_count": 112,
   "metadata": {},
   "outputs": [
    {
     "name": "stdout",
     "output_type": "stream",
     "text": [
      "      Year       country  Population  Alcohol  Hiv/aids  Hepatitisb  \\\n",
      "0     2015   Afghanistan  33736494.0     0.01       0.1          65   \n",
      "16    2015       Albania     28873.0     4.60       0.1          99   \n",
      "247   2014      Bulgaria   7223938.0    12.03       0.1          95   \n",
      "1112  2014       Nigeria   1764652.0     0.01       3.9          49   \n",
      "217   2014      Botswana   2168573.0     0.01       2.3          95   \n",
      "...    ...           ...         ...      ...       ...         ...   \n",
      "1390  2000         Spain   4567864.0    11.12       0.1          77   \n",
      "107   2000       Austria    811566.0    13.20       0.1          33   \n",
      "1375  2000  South Africa  44896856.0     7.30      21.3          73   \n",
      "762   2000        Jordan     51313.0     0.49       0.1          93   \n",
      "1648  2000      Zimbabwe  12222251.0     1.68      43.5          79   \n",
      "\n",
      "      Lifeexpectancy  Adultmortality  \n",
      "0               65.0             263  \n",
      "16              77.8              74  \n",
      "247             74.3             138  \n",
      "1112            53.6             362  \n",
      "217             65.1             268  \n",
      "...              ...             ...  \n",
      "1390            79.1              86  \n",
      "107             78.1              96  \n",
      "1375            57.3             397  \n",
      "762             71.7             133  \n",
      "1648            46.0             665  \n",
      "\n",
      "[1649 rows x 8 columns]\n"
     ]
    }
   ],
   "source": [
    "filtrarDados = df[(df[\"Year\"] >= 2000) & (df[\"Year\"] <= 2015)][[\"Year\",\"country\", \"Population\", \"Alcohol\",\"Hiv/aids\", \"Hepatitisb\", \"Lifeexpectancy\", \"Adultmortality\"]]\n",
    "filtrarDados = filtrarDados.sort_values(by=\"Year\", ascending=False)\n",
    "print (filtrarDados)\n",
    "\n",
    "filtrarDados.to_csv('datasetFiltrado.csv', index=False)\n",
    "\n"
   ]
  },
  {
   "cell_type": "code",
   "execution_count": null,
   "metadata": {},
   "outputs": [
    {
     "name": "stdout",
     "output_type": "stream",
     "text": [
      "Pais com maior consumo de álcool em 2015: France\n",
      "Consumo de álcool: 13.63\n"
     ]
    },
    {
     "name": "stderr",
     "output_type": "stream",
     "text": [
      "/var/folders/d2/q8bmm2pd0bg3xjbjj3599j2w0000gn/T/ipykernel_58255/311502333.py:1: UserWarning: Boolean Series key will be reindexed to match DataFrame index.\n",
      "  df_2015 = filtrarDados[df['Year'] == 2000]  # Filtra os dados para o ano de 2015\n"
     ]
    }
   ],
   "source": []
  }
 ],
 "metadata": {
  "kernelspec": {
   "display_name": "ProjetoMTAD",
   "language": "python",
   "name": "python3"
  },
  "language_info": {
   "codemirror_mode": {
    "name": "ipython",
    "version": 3
   },
   "file_extension": ".py",
   "mimetype": "text/x-python",
   "name": "python",
   "nbconvert_exporter": "python",
   "pygments_lexer": "ipython3",
   "version": "3.11.10"
  }
 },
 "nbformat": 4,
 "nbformat_minor": 2
}
